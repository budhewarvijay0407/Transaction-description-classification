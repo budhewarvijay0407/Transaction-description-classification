{
 "cells": [
  {
   "cell_type": "code",
   "execution_count": 2,
   "id": "ffee7200-d0a3-4321-a201-aeabb957ab40",
   "metadata": {},
   "outputs": [
    {
     "name": "stderr",
     "output_type": "stream",
     "text": [
      "C:\\Users\\Rideema Malji\\AppData\\Local\\Temp\\ipykernel_25140\\2153077694.py:1: DeprecationWarning: \n",
      "Pyarrow will become a required dependency of pandas in the next major release of pandas (pandas 3.0),\n",
      "(to allow more performant data types, such as the Arrow string type, and better interoperability with other libraries)\n",
      "but was not found to be installed on your system.\n",
      "If this would cause problems for you,\n",
      "please provide us feedback at https://github.com/pandas-dev/pandas/issues/54466\n",
      "        \n",
      "  import pandas as pd\n",
      "C:\\anaconda_setup\\envs\\credit_transaction_data\\lib\\site-packages\\torch\\_utils.py:831: UserWarning: TypedStorage is deprecated. It will be removed in the future and UntypedStorage will be the only storage class. This should only matter to you if you are using storages directly.  To access UntypedStorage directly, use tensor.untyped_storage() instead of tensor.storage()\n",
      "  return self.fget.__get__(instance, owner)()\n"
     ]
    }
   ],
   "source": [
    "import pandas as pd\n",
    "import pickle\n",
    "from langchain_community.embeddings import HuggingFaceEmbeddings\n",
    "instructor_embeddings = HuggingFaceEmbeddings()\n",
    "\n",
    "#Read the models and transformers and then generate the results\n",
    "\n",
    "pca = pickle.load(open(r'C:\\Users\\Rideema Malji\\OneDrive\\Desktop\\Others\\Upwork\\debit_card_transaction_analysis\\Models\\Embeddings\\pca_transform', 'rb'))\n",
    "label_encoder = pickle.load(open(r'C:\\Users\\Rideema Malji\\OneDrive\\Desktop\\Others\\Upwork\\debit_card_transaction_analysis\\Models\\Embeddings\\label_encoder','rb'))\n",
    "clf_embeddings = pickle.load(open(r'C:\\Users\\Rideema Malji\\OneDrive\\Desktop\\Others\\Upwork\\debit_card_transaction_analysis\\Models\\Embeddings\\Emb_SVC_model_cls.pickle','rb'))\n",
    "\n",
    "def get_output(input_description):\n",
    "    emb = instructor_embeddings.embed_query(input_description)\n",
    "    df_embeddings = pd.DataFrame([emb])\n",
    "    df_embeddings.columns = ['E'+str(i) for i in range(768)]\n",
    "    pca_input_data=pca.transform(df_embeddings)\n",
    "    response = clf_embeddings.predict(pca_input_data)\n",
    "    pred_actual_label=label_encoder.inverse_transform(response)\n",
    "    return pred_actual_label"
   ]
  },
  {
   "cell_type": "code",
   "execution_count": 16,
   "id": "fb7d8c17-f473-418e-8881-628e8cde5ebf",
   "metadata": {},
   "outputs": [
    {
     "name": "stdout",
     "output_type": "stream",
     "text": [
      "['Online purchase']\n"
     ]
    },
    {
     "name": "stderr",
     "output_type": "stream",
     "text": [
      "C:\\anaconda_setup\\envs\\credit_transaction_data\\lib\\site-packages\\sklearn\\base.py:486: UserWarning: X has feature names, but PCA was fitted without feature names\n",
      "  warnings.warn(\n"
     ]
    }
   ],
   "source": [
    "print(get_output(\"AMZN\"))"
   ]
  },
  {
   "cell_type": "code",
   "execution_count": null,
   "id": "38d3db66-e288-433c-9205-cc25d2112748",
   "metadata": {},
   "outputs": [],
   "source": []
  }
 ],
 "metadata": {
  "kernelspec": {
   "display_name": "Python 3 (ipykernel)",
   "language": "python",
   "name": "python3"
  },
  "language_info": {
   "codemirror_mode": {
    "name": "ipython",
    "version": 3
   },
   "file_extension": ".py",
   "mimetype": "text/x-python",
   "name": "python",
   "nbconvert_exporter": "python",
   "pygments_lexer": "ipython3",
   "version": "3.9.18"
  }
 },
 "nbformat": 4,
 "nbformat_minor": 5
}
